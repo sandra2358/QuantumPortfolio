{
 "cells": [
  {
   "cell_type": "markdown",
   "id": "e95df6f6-8d70-47d2-903b-e13742a1d73a",
   "metadata": {},
   "source": [
    "# Deutsch-Jozsa Algorithm\n",
    "\n",
    "The Deutsch-Jozsa Algorithm is the first quantum algorithm that showcases quantum's advantage over classical computers. It reveals the possibility of speeding up quantum algorithms exponentially. \n",
    "\n",
    "In this section, we first look at the Deutsch Algorithm, where we introduce the problem as well as both the classical and quantum solutions. After that, we look into the generalized Deutsch algorithm, which is the Deutsch-Jozsa Algorithm. "
   ]
  },
  {
   "cell_type": "markdown",
   "id": "6e582742-200f-46a6-a026-b5fbc5d0e6e5",
   "metadata": {},
   "source": [
    "## Deutsch Algorithm\n"
   ]
  },
  {
   "cell_type": "markdown",
   "id": "36944916-8a62-4c99-b0e2-73082a070d14",
   "metadata": {},
   "source": [
    "\n",
    "### Deutsch's Problem\n",
    "Introduced by Deutsch, the problem assumes that there is a function $f$ that is either balanced or constant, and needs to determine whether it is balanced or constant. For a one-bit function $f$, a constant function would give the same output regardless of the input, i.e., $f(0)=f(1)$; whereas a balanced function would give a different output based on its input, i.e., $f(0)\\neq f(1)$. We can see all the four possible cases of a one-bit function in the table below: \n",
    "||$x$|$f(x)$|Type|\n",
    "|:----|:----:|:----:|:----:|\n",
    "|$f_1(x)=0$|0|0|constant|\n",
    "||1|0||\n",
    "|$f_2(x)=1$|0|1|constant|\n",
    "||1|1||\n",
    "$f_3(x)=x$|0|0|balanced|\n",
    "||1|1||\n",
    "|$f_4(x)=x\\oplus1$|0|1|balanced|\n",
    "||1|0||\n",
    "\n",
    "We can treat the function as a black box. It can evaluate the function with given inputs, but we cannot see how the black box / function works. \n"
   ]
  },
  {
   "cell_type": "markdown",
   "id": "5b2eb2d2-61d4-46e4-a21f-1525e80470df",
   "metadata": {},
   "source": [
    "### Classical Solution\n",
    "\n",
    "Classically, we need to evaluate the function with both the inputs 0 and 1. By determining whether the statement $f(0)=f(1)$ is true or not, we can determine whether the function is constant or balanced. \n",
    "\n",
    "Therefore, classically, we would need two computations to determine it. \n"
   ]
  },
  {
   "cell_type": "markdown",
   "id": "d2dc0e20-4ad4-47a7-8757-ba41f0d76d9f",
   "metadata": {},
   "source": [
    "### Quantum Solution\n",
    "\n",
    "Quantum mechanically, we can solve this problem with just one computation using Deutsch's algorithm, showcasing the advantage of quantum computers over classical ones. \n",
    "\n",
    "Let's take a look at the quantum circuit of Deutsch's algorithm:"
   ]
  },
  {
   "cell_type": "code",
   "execution_count": 157,
   "id": "162c494c-0197-4ac4-8ed6-0ff3effb71f2",
   "metadata": {},
   "outputs": [],
   "source": [
    "from qiskit_aer import Aer as Aer \n",
    "from qiskit import QuantumRegister,ClassicalRegister,QuantumCircuit,transpile\n",
    "from math import pi\n",
    "import numpy as np\n",
    "import random\n",
    "from qiskit.visualization import plot_bloch_multivector, plot_histogram\n",
    "\n",
    "sim = Aer.get_backend('aer_simulator')"
   ]
  },
  {
   "cell_type": "code",
   "execution_count": 89,
   "id": "6b8d4fb2-5704-46f1-817d-cc9484f49ec7",
   "metadata": {},
   "outputs": [
    {
     "data": {
      "image/png": "[encoded data removed]",
      "text/plain": [
       "<Figure size 909.235x284.278 with 1 Axes>"
      ]
     },
     "execution_count": 89,
     "metadata": {},
     "output_type": "execute_result"
    }
   ],
   "source": [
    "cr = ClassicalRegister(1)\n",
    "qr = QuantumRegister(2)\n",
    "qc = QuantumCircuit(qr,cr)\n",
    "\n",
    "qc.x(1)\n",
    "qc.barrier(label='$ψ_1$')\n",
    "# state1 = sim.run(qc).result().data()['$ψ_1$']\n",
    "\n",
    "qc.h([0,1])\n",
    "qc.barrier(label='$ψ_2$')\n",
    "# state2 = sim.run(qc).result().data()['$ψ_2$']\n",
    "\n",
    "blackbox = QuantumCircuit(2)\n",
    "output = np.random.randint(2)\n",
    "blackbox_gate = blackbox.to_gate()\n",
    "blackbox_gate.name = 'U'\n",
    "\n",
    "qc.append(blackbox_gate,range(2))\n",
    "qc.barrier(label='$ψ_3$')\n",
    "# state3 = sim.run(qc).result().data()['$ψ_3$']\n",
    "\n",
    "qc.h(0)\n",
    "\n",
    "qc.barrier(label='$ψ_4$')\n",
    "qc.measure(0,0)\n",
    "# state4 = sim.run(qc).result().data()['$ψ_4$']\n",
    "\n",
    "qc.draw(\"mpl\")"
   ]
  },
  {
   "cell_type": "markdown",
   "id": "1976a2b7-8418-4d4a-aaaf-74ae7330c671",
   "metadata": {},
   "source": [
    "With a one-bit function $f(x)$, we use a quantum circuit with 2 qubits. We start by preparing the state $$\\psi_1=|01\\rangle.$$ \n",
    "Then, we apply H-gate on all qubits, so the state becomes \n",
    "$$\\begin{align} \n",
    "\\psi_2 &= \\left( \\frac{|0\\rangle + |1\\rangle}{\\sqrt{2}} \\right)\\left(\\frac{|0\\rangle - |1\\rangle}{\\sqrt{2}} \\right)  \\\\\n",
    "&= \\frac{1}{2}\\left( |00\\rangle - |01\\rangle + |10\\rangle - |11\\rangle \\right)\n",
    "\\end{align}$$\n",
    "\n",
    "Afterwards, we apply the unitary operation $\\hat{U}$, which the influence on the states is:\n",
    "$$ \\hat{U} |x\\rangle \\otimes |y\\rangle = |x\\rangle \\otimes |y\\oplus f(x) \\rangle$$\n",
    "Let's break it down to the four possible cases and look at the state after $\\hat{U}$ is applied. \n",
    "\n",
    "To illustrate the [phase kickback](./Phase-Kickback.ipynb) phenonmenon here, we take $q_0$ as $|x\\rangle$ $q_1$ as $|-\\rangle$, by applying $\\hat{U}$  we obtain: \n",
    "$$ \\begin{align} \n",
    "\\hat{U}|x\\rangle |-\\rangle &= \\frac{1}{\\sqrt{2}} \\left(\\hat{U}|x\\rangle|0\\rangle - \\hat{U}|x\\rangle|1\\rangle  \\right)\\\\ \n",
    "&= \\frac{1}{\\sqrt{2}}\\left( |x\\rangle|f(x)\\rangle - |x\\rangle |1\\oplus f(x)\\rangle \\right) \\\\\n",
    "&= |x\\rangle \\otimes \\frac{1}{\\sqrt{2}}\\left( |f(x)\\rangle - |1\\oplus f(x)\\rangle \\right)  \\\\\n",
    "&= \\left\\{ \\begin{array}{ll} |x\\rangle\\frac{1}{\\sqrt{2}}(|0\\rangle -|1\\rangle) = |x\\rangle |-\\rangle & f(x)=0 \\\\ |x\\rangle\\frac{1}{\\sqrt{2}}(|1\\rangle -|0\\rangle) = -|x\\rangle |-\\rangle & f(x)=1  \\end{array}\\right.\\\\\n",
    "&= (-1)^{f(x)}|x\\rangle|-\\rangle\n",
    "\\end{align}\n",
    "$$ \n",
    "\n",
    "Moving back to how $\\hat{U}$ interacts with $\\psi_2$: \n",
    "\n",
    "\n",
    "||$f(x)$|$\\psi_3$|\n",
    "|:----:|:----|:----|\n",
    "|constant|$f_1(x)=0$|$\\frac{1}{2} \\left( |00\\rangle - |01\\rangle + |10\\rangle - |11\\rangle \\right) = \\left(\\frac{|0\\rangle+|1\\rangle}{\\sqrt{2}}\\right)\\otimes \\left(\\frac{|0\\rangle-|1\\rangle}{\\sqrt{2}}\\right) = |+\\rangle |-\\rangle $|\n",
    "||$f_2(x)=1$|$\\frac{1}{2} \\left( |01\\rangle - |00\\rangle + |11\\rangle - |10\\rangle \\right) = -\\left(\\frac{|0\\rangle+|1\\rangle}{\\sqrt{2}}\\right)\\otimes \\left(\\frac{|0\\rangle-|1\\rangle}{\\sqrt{2}}\\right) = -|+\\rangle |-\\rangle $|\n",
    "|balanced|$f_3(x)=x$|$\\frac{1}{2} \\left( |00\\rangle - |01\\rangle + |11\\rangle - |10\\rangle \\right) = \\left(\\frac{|0\\rangle-|1\\rangle}{\\sqrt{2}}\\right)\\otimes \\left(\\frac{|0\\rangle-|1\\rangle}{\\sqrt{2}}\\right) = |-\\rangle |-\\rangle $|\n",
    "||$f_4(x)=x\\oplus1$|$\\frac{1}{2} \\left( |01\\rangle - |00\\rangle + |10\\rangle - |11\\rangle \\right) = -\\left(\\frac{|0\\rangle-|1\\rangle}{\\sqrt{2}}\\right)\\otimes \\left(\\frac{|0\\rangle-|1\\rangle}{\\sqrt{2}}\\right) = -|-\\rangle |-\\rangle $|\n",
    "\n",
    "We see that although $q_0$ is the control, after applying $\\hat{U}$, we can see that $q_1$ remains unchanged, while $q_0$ can be changed. For constant functions, $q_0$ remains $|+\\rangle$; whereas for balanced functions, $q_0$ becomes $|-\\rangle$. This can be measured by changing $q_0$ back to the measurement basis by applying the H-gate, which gives \n",
    "$$ \\psi_4 = \\left\\{ \\begin{array}{rr}\n",
    "\\pm |+\\rangle|-\\rangle & \\text{constant function } (f(0)=f(1)) \\\\ \\pm |-\\rangle |-\\rangle & \\text{balanced function } (f(0)\\neq f(1))\n",
    "\\end{array}\\right. $$ \n",
    "\n",
    "By measuring $q_0$, we are able to determine whether the function is balanced or constant with only one measurement, making it more efficient than the classical method. "
   ]
  },
  {
   "cell_type": "markdown",
   "id": "fb83cde1-758a-4ca6-9304-a12420e15eeb",
   "metadata": {},
   "source": [
    "## Back to Deutsch-Jozsa Algorithm"
   ]
  },
  {
   "cell_type": "markdown",
   "id": "aea9b560-dcab-4f50-9e9a-65d60339a470",
   "metadata": {},
   "source": [
    "### Deutsch-Jozsa Problem\n",
    "\n",
    "The Deutsch-Jozsa problem is a generalisation of the Deutsch Problem. It has a function with $n$ inputs instead of only 1 input and remains having a one-bit outcome. The function $f:\\{0,1\\}^n \\rightarrow \\{0,1\\}$ is promised to be either constant or balanced. In this problem, a function is constant when the output remains the same for any input. A function is balanced when exactly half of the possible inputs have an output of 0, and the remaining half have an output of 1.  "
   ]
  },
  {
   "cell_type": "markdown",
   "id": "282f2f58-92da-410a-8a52-20c0217a08bb",
   "metadata": {},
   "source": [
    "### Classical Solution \n",
    "\n",
    "Classically, we need to query the function for $2^{n-1}+1$ times to have a 100% certainity of whether the function is constant of balanced. \n",
    "\n",
    "When the given function is balanced, it can require less than $2^{n-1}+1$ queries. Whenever there is an output that is different from the previous output(s), then we can conclude that the function is balanced. In the best case scenario, we can determine a function is balanced if the output of the first 2 queries are different. \n",
    "\n",
    "However, when the given function is constant, we would require to perform $2^{n-1}+1$ queries of the function. We need to check exactly half of the possible input plus one to be certain the function is cosntant. For example, a function with 5 bit inputs, there are a total of $2^5=32$ possible inputs. So, 16 inputs would have an output of 0 and another 16 inputs would have an output of 1. If we checked 16 inputs and are all 0, if the 17$^{th}$ input has an output of 1, then it is a balanced function, otherwise, we can be certain that the function is constant. \n",
    "\n",
    "When $n$ increases, the number of computation needed increases exponentially, making it very resource intensive. "
   ]
  },
  {
   "cell_type": "markdown",
   "id": "b09b0d6a-e044-46ce-b637-53f919d7ee81",
   "metadata": {},
   "source": [
    "### Quantum Solution\n",
    "\n",
    "The general idea of Deutsch-Jozsa Algorithm is similar to the Deutsch Algorithm. Here, we need $n+1$ qubits. \n",
    "\n",
    "Here we look at the quantum circuit of the Deutsch-Jozsa algorithm. "
   ]
  },
  {
   "cell_type": "markdown",
   "id": "b2604ed7-7983-4393-82b3-567059c37f54",
   "metadata": {},
   "source": [
    "\n"
   ]
  },
  {
   "cell_type": "markdown",
   "id": "6e06b105-3d1c-46be-b5f1-7154de9a48c1",
   "metadata": {},
   "source": [
    "We first start by   $n+1$ qubits with the $n+1^{th}$ qubit as $|1\\rangle$. So the initial state is \n",
    "$$ \\psi_1 = |0\\rangle ^{\\otimes n}|1\\rangle $$\n",
    "\n",
    "Then, we put them into superposition by applying a H-gate to each qubit, which can be expressed as \n",
    "$$ \\psi_2 = \\frac{1}{\\sqrt{2^n}} \\sum_{x\\in \\{0,1\\}^n} |x\\rangle |-\\rangle $$ \n",
    "\n",
    "Now, we apply the unitary transformation $\\hat{U}$. Earlier, we have established that $\\hat{U}|x\\rangle|-\\rangle = (-1)^{f(x)}|x\\rangle|-\\rangle$, therefore, the state now becomes \n",
    "$$ \\psi_3 = \\frac{1}{\\sqrt{2^n}} \\sum_{x\\in \\{0,1\\}^n} (-1)^{f(x)} |x\\rangle |-\\rangle $$ \n",
    "<!-- We can use the Deutsch's Algorithm to get an intuition of the phase kickback change the state. We can conclude it in the below table: \n",
    "\n",
    "|||$f(x)$|state|\n",
    "|:-----:|:-----:|:-----:|:-----:|\n",
    "|constant|$f_1(x)$| $\\begin{align}f_1(0)&=0 \\\\ f_1(1)&=0\\end{align}$ | $\\hat{U}(|0\\rangle + |1\\rangle) = |0\\rangle + |1\\rangle$|\n",
    "|constant|$f_2(x)$| $\\begin{align}f_2(0)&=1 \\\\ f_2(1)&=1\\end{align}$ | $\\hat{U}(|0\\rangle + |1\\rangle) = -(|0\\rangle + |1\\rangle)$|\n",
    "|balanced|$f_3(x)$| $\\begin{align}f_3(0)&=0 \\\\ f_3(1)&=1\\end{align}$ | $\\hat{U}(|0\\rangle + |1\\rangle) = |0\\rangle - |1\\rangle$|\n",
    "|balanced|$f_4(x)$| $\\begin{align}f_4(0)&=1 \\\\ f_4(1)&=0\\end{align}$ | $\\hat{U}(|0\\rangle + |1\\rangle) = -(|0\\rangle - |1\\rangle)$|\n",
    " -->\n",
    "\n",
    "By applying $H^{\\otimes n}$ gate, the first $n$ qubits is changed into measurement basis ($|0\\rangle,|1\\rangle$), which can expressed \n",
    "$$ H^{\\otimes n}|x\\rangle = \\frac{1}{\\sqrt{2^n}} \\sum_{x\\in \\{0,1\\}^n} (-1)^{x\\cdot y}|y\\rangle $$ \n",
    "where $y\\in \\{0,1\\}$, and $ x \\cdot y = x_0 y_0 \\oplus x_1y_1 \\oplus \\dots \\oplus x_{n-1}y_{n-1}$. \n",
    "This gives the state as \n",
    "$$ \\psi_4 = \\frac{1}{2^n}\\sum_{x\\in\\{0,1\\}^n} (-1)^{f(x)} \\left[ \\sum_{y\\in\\{0,1\\}^n}(-1)^{x\\cdot y}|y\\rangle \\right] |-\\rangle$$ \n",
    "\n",
    "Now, we can measure the first $n$ qubits. The probability of measuring $|0\\rangle ^{\\oplus n}$ is $\\lvert \\frac{1}{2^n}\\sum_{x=0}^{2^n-1}(-1)^{f(x)} \\rvert^2$, which is 1 when the function is constant. When the function is balanced, the probability of such is 0. Therefore, we are able to determine whether the function is constant or balanced. This exponentially speed up the query complexity compared to classical case, demonstrating a quantum advantage. "
   ]
  },
  {
   "cell_type": "markdown",
   "id": "5c410f4a-ee43-4d46-9cd7-c3ea5cefc916",
   "metadata": {},
   "source": [
    "## Qiskit Implementation "
   ]
  },
  {
   "cell_type": "markdown",
   "id": "d72fd647-4191-4b1a-816c-da42642f3fd7",
   "metadata": {},
   "source": [
    "### Constant function "
   ]
  },
  {
   "cell_type": "markdown",
   "id": "f8d968f4-08f5-456e-8eee-998b7dca0d31",
   "metadata": {},
   "source": [
    "Let's take a look how the blackbox works for constant functions. \n",
    "\n",
    "1. Case 1: $f_1(x)=0$\n",
    "\n",
    "    Any input would result to an output of 0, and since $y\\oplus 0 = y$, there are no change in the last qubit ($q_n$). Therefore, we can represent the blackbox of this case by applying $I$ gate to $q_n$. \n",
    "\n",
    "3. Case 2: $f_2(x)=1$\n",
    "\n",
    "    Any input would result to an output of 1. Since $|0\\oplus\\rangle = |1\\rangle$ and $|1\\oplus\\rangle = |0\\rangle$, $y\\oplus 1$ is equivalent to having a not gate. Therefore, the blackbox can be represented by applying a $X$ gate to $q_n$. "
   ]
  },
  {
   "cell_type": "code",
   "execution_count": 31,
   "id": "fb523da2-4285-4ccd-b905-c18f48e93c09",
   "metadata": {},
   "outputs": [
    {
     "data": {
      "text/html": [
       "<pre style=\"word-wrap: normal;white-space: pre;background: #fff0;line-height: 1.1;font-family: &quot;Courier New&quot;,Courier,monospace\">          \n",
       "q_0: ─────\n",
       "          \n",
       "q_1: ─────\n",
       "          \n",
       "q_2: ─────\n",
       "          \n",
       "q_3: ─────\n",
       "     ┌───┐\n",
       "q_4: ┤ X ├\n",
       "     └───┘</pre>"
      ],
      "text/plain": [
       "          \n",
       "q_0: ─────\n",
       "          \n",
       "q_1: ─────\n",
       "          \n",
       "q_2: ─────\n",
       "          \n",
       "q_3: ─────\n",
       "     ┌───┐\n",
       "q_4: ┤ X ├\n",
       "     └───┘"
      ]
     },
     "execution_count": 31,
     "metadata": {},
     "output_type": "execute_result"
    }
   ],
   "source": [
    "# set the length of the n-bit input string. \n",
    "n = 3\n",
    "\n",
    "def const_Blackbox(n):\n",
    "    # Creating a circuit with n+1 qubit\n",
    "    const = QuantumCircuit(n+1)\n",
    "\n",
    "    # Randomly generating the output of a constant f(x)\n",
    "    # If output = 0: the function is f(x) = 0 for any x\n",
    "    # If output = 1: the function is f(x) = 1 for any x \n",
    "    output = np.random.randint(2)\n",
    "    if output == 1:\n",
    "        const.x(n)\n",
    "    \n",
    "    return const\n",
    "    \n",
    "const_box = const_Blackbox(4)\n",
    "\n",
    "const_box.draw()"
   ]
  },
  {
   "cell_type": "markdown",
   "id": "522bbe94-baa6-4719-b796-dd7d051e22cc",
   "metadata": {},
   "source": [
    "### Balanced Function"
   ]
  },
  {
   "cell_type": "markdown",
   "id": "9d195cee-599a-4404-b9b0-44ba775ca774",
   "metadata": {},
   "source": [
    "There are many methods to create the blackbox for a function. One of the methods that we can guarentee that the circuit is balanced, with exactly half inputs results in 0 and exactly half inputs reuslts in 1 is performing a CNOT for each of the first $n$ qubit with $q_n$ as the target. \n",
    "\n",
    "For example: "
   ]
  },
  {
   "cell_type": "code",
   "execution_count": 33,
   "id": "2416a967-7d7b-47c8-805b-2c1efce38f73",
   "metadata": {},
   "outputs": [
    {
     "data": {
      "image/png": "[encoded data removed]",
      "text/plain": [
       "<Figure size 371.107x367.889 with 1 Axes>"
      ]
     },
     "execution_count": 33,
     "metadata": {},
     "output_type": "execute_result"
    }
   ],
   "source": [
    "qc = QuantumCircuit(4)\n",
    "qc.cx(0,3)\n",
    "qc.cx(1,3)\n",
    "qc.cx(2,3)\n",
    "qc.draw(\"mpl\")"
   ]
  },
  {
   "cell_type": "markdown",
   "id": "e72d7652-bbff-40b7-a080-845d4e37ef07",
   "metadata": {},
   "source": [
    "The top three qubits ($q_0$,$q_1$,$q_2$) are the input register where as the last qubit $q_3$ is the output register. We can observe from the below tabel that the circuit is indeed balanced: \n",
    "\n",
    "|Input $(x_0,x_1,x_2)$|Output $f(x_0,x_1,x_2)$|\n",
    "|:-----:|:-----:|\n",
    "|000|0|\n",
    "|001|1|\n",
    "|010|1|\n",
    "|100|1|\n",
    "|011|0|\n",
    "|101|0|\n",
    "|110|0|\n",
    "|111|1|"
   ]
  },
  {
   "cell_type": "markdown",
   "id": "5788de7f-0d5c-4cab-a24a-cfe5c3b7e1d0",
   "metadata": {},
   "source": [
    "We can obtain a different balanced function by wrapping the selectied qubits with $X$-gates. "
   ]
  },
  {
   "cell_type": "code",
   "execution_count": 164,
   "id": "7b8a305a-8568-458a-898f-0007f4ee6edc",
   "metadata": {},
   "outputs": [
    {
     "data": {
      "image/png": "[encoded data removed]",
      "text/plain": [
       "<Figure size 621.941x451.5 with 1 Axes>"
      ]
     },
     "execution_count": 164,
     "metadata": {},
     "output_type": "execute_result"
    }
   ],
   "source": [
    "def bal_Blackbox(n):\n",
    "    # Creating a circuit with n+1 qubit\n",
    "    bal = QuantumCircuit(n+1)\n",
    "\n",
    "    # Generating a list of 0 and 1 of length = n \n",
    "    boolean_list = random.choices([0,1],k=n)\n",
    "\n",
    "    # Placing first X gates such that the selected qubits are wrapped with X-gates\n",
    "    for qubit in range(n):\n",
    "        if boolean_list[qubit] == 1:\n",
    "            bal.x(qubit)\n",
    "    \n",
    "    # bal.barrier()\n",
    "\n",
    "    # Applying CNOT gate to each qubit with the last qubit as the target\n",
    "    for qubit in range(n):\n",
    "        bal.cx(qubit,n)\n",
    "\n",
    "    # bal.barrier()\n",
    "\n",
    "    # Placing second X gates such that the selected qubits are wrapped with X-gates\n",
    "    for qubit in range(n):\n",
    "        if boolean_list[qubit] == 1:\n",
    "            bal.x(qubit)\n",
    "        \n",
    "    return bal\n",
    "    \n",
    "bal_box = bal_Blackbox(4)\n",
    "\n",
    "bal_box.draw(\"mpl\")"
   ]
  },
  {
   "cell_type": "code",
   "execution_count": 165,
   "id": "47327188-2969-4a75-8d20-07c462f3a9f9",
   "metadata": {},
   "outputs": [],
   "source": [
    "def circuit_to_gate(circuit):\n",
    "    circuit_gate = circuit.to_gate()\n",
    "    circuit_gate.name = '$U$'\n",
    "    return circuit_gate"
   ]
  },
  {
   "cell_type": "code",
   "execution_count": null,
   "id": "672c0d19-8154-45c5-a84f-87baf545e377",
   "metadata": {},
   "outputs": [],
   "source": []
  },
  {
   "cell_type": "code",
   "execution_count": 141,
   "id": "8a311c6e-644d-43b6-a5c4-84d74cc1a0f2",
   "metadata": {},
   "outputs": [
    {
     "name": "stdout",
     "output_type": "stream",
     "text": [
      "True\n"
     ]
    }
   ],
   "source": [
    "const_or_bal = random.choice(['bal','const'])\n",
    "print(const_or_bal == 'bal')"
   ]
  },
  {
   "cell_type": "code",
   "execution_count": 162,
   "id": "588f7035-2d1f-488c-8d2f-77f6d2c22c1e",
   "metadata": {},
   "outputs": [
    {
     "data": {
      "image/png": "[encoded data removed]",
      "text/plain": [
       "<Figure size 927.87x451.5 with 1 Axes>"
      ]
     },
     "execution_count": 162,
     "metadata": {},
     "output_type": "execute_result"
    }
   ],
   "source": [
    "# Set the size of the input register \n",
    "n = 1\n",
    "\n",
    "def Circuit(n=2):\n",
    "    cr = ClassicalRegister(n)\n",
    "    qr = QuantumRegister(n+1)\n",
    "    qc = QuantumCircuit(qr,cr)\n",
    "\n",
    "    # Initialising the qubits with the last qubit at |1>\n",
    "    qc.x(n)\n",
    "    qc.barrier()\n",
    "\n",
    "    for qubit in range(n+1):\n",
    "        qc.h(qubit)\n",
    "    qc.barrier()\n",
    "    \n",
    "    # Randomly selecting whether the funtion is constant or balanced \n",
    "    # const_or_bal = random.choice(['bal','const'])\n",
    "    const_or_bal = 'bal'\n",
    "    if const_or_bal == 'bal':\n",
    "        blackbox = bal_Blackbox(n)\n",
    "    else:\n",
    "        blackbox = const_Blackbox(n)\n",
    "    blackbox_gate = blackbox.to_gate()\n",
    "    blackbox_gate.name = 'U'\n",
    "    \n",
    "    qc.append(blackbox_gate,range(n+1))\n",
    "    qc.barrier()\n",
    "\n",
    "    # Measuring the first n qubits \n",
    "    for i in range(n):\n",
    "        qc.measure(i,i)\n",
    "\n",
    "    return qc\n",
    "\n",
    "qc = Circuit(n=3)\n",
    "\n",
    "qc.draw(\"mpl\")"
   ]
  },
  {
   "cell_type": "code",
   "execution_count": 163,
   "id": "270dad4a-2a9c-4f71-b313-5cb426adfbe9",
   "metadata": {},
   "outputs": [
    {
     "data": {
      "image/png": "[encoded data removed]",
      "text/plain": [
       "<Figure size 640x480 with 1 Axes>"
      ]
     },
     "execution_count": 163,
     "metadata": {},
     "output_type": "execute_result"
    }
   ],
   "source": [
    "transpiled = transpile(qc,sim)\n",
    "result = sim.run(transpiled).result()\n",
    "\n",
    "plot_histogram(result.get_counts(qc))"
   ]
  },
  {
   "cell_type": "code",
   "execution_count": null,
   "id": "6709d393-99cf-4c88-b704-43d4d9eb0820",
   "metadata": {},
   "outputs": [],
   "source": []
  }
 ],
 "metadata": {
  "kernelspec": {
   "display_name": "Python 3 (ipykernel)",
   "language": "python",
   "name": "python3"
  },
  "language_info": {
   "codemirror_mode": {
    "name": "ipython",
    "version": 3
   },
   "file_extension": ".py",
   "mimetype": "text/x-python",
   "name": "python",
   "nbconvert_exporter": "python",
   "pygments_lexer": "ipython3",
   "version": "3.12.4"
  }
 },
 "nbformat": 4,
 "nbformat_minor": 5
}
