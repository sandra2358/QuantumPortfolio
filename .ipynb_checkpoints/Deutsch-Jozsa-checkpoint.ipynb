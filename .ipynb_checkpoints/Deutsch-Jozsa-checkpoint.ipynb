{
 "cells": [
  {
   "cell_type": "markdown",
   "id": "e95df6f6-8d70-47d2-903b-e13742a1d73a",
   "metadata": {},
   "source": [
    "# Deutsch-Jozsa Algorithm\n",
    "\n",
    "The Deutsch-Jozsa Algorithm is the first quantum algorithm that showcases quantum's advantage over classical computers. It reveals the possibility of speeding up quantum algorithms exponentially. \n",
    "\n",
    "In this section, we first look at the Deutsch Algorithm, where we introduce the problem as well as both the classical and quantum solutions. After that, we look into the generalized Deutsch algorithm, which is the Deutsch-Jozsa Algorithm. "
   ]
  },
  {
   "cell_type": "markdown",
   "id": "36944916-8a62-4c99-b0e2-73082a070d14",
   "metadata": {},
   "source": [
    "## Deutsch Algorithm\n",
    "\n",
    "### Deutsch's Problem\n",
    "Introduced by Deutsch, the problem assumes that there is a function $f$ that is either balanced or constant, and needs to determine whether it is balanced or constant. For a one-bit function $f$, a constant function would give the same output regardless of the input, i.e., $f(0)=f(1)$; whereas a balanced function would give a different output based on its input, i.e., $f(0)\\neq f(1)$. We can see all the four possible cases of a one-bit function in the table below: \n",
    "||$x$|$f(x)$|Type|\n",
    "|:----|:----:|:----:|:----:|\n",
    "|$f_1(x)=0$|0|0|constant|\n",
    "||1|0||\n",
    "|$f_2(x)=1$|0|1|constant|\n",
    "||1|1||\n",
    "$f_3(x)=x$|0|0|balanced|\n",
    "||1|1||\n",
    "|$f_4(x)=x\\oplus1$|0|1|balanced|\n",
    "||1|0||\n",
    "\n",
    "We can treat the function as a black box. It can evaluate the function with given inputs, but we cannot see how the black box / function works. \n"
   ]
  },
  {
   "cell_type": "markdown",
   "id": "5b2eb2d2-61d4-46e4-a21f-1525e80470df",
   "metadata": {},
   "source": [
    "### Classical Solution\n",
    "\n",
    "Classically, we need to evaluate the function with both the inputs 0 and 1. By determining whether the statement $f(0)=f(1)$ is true or not, we can determine whether the function is constant or balanced. \n",
    "\n",
    "Therefore, classically, we would need two computations to determine it. \n"
   ]
  },
  {
   "cell_type": "markdown",
   "id": "d2dc0e20-4ad4-47a7-8757-ba41f0d76d9f",
   "metadata": {},
   "source": [
    "### Quantum Solution\n",
    "\n",
    "Quantum mechanically, we can solve this problem with just one computation using Deutsch's algorithm, showcasing the advantage of quantum computers over classical ones. \n",
    "\n",
    "Let's take a look at the quantum circuit of Deutsch's algorithm:"
   ]
  },
  {
   "cell_type": "code",
   "execution_count": 1,
   "id": "162c494c-0197-4ac4-8ed6-0ff3effb71f2",
   "metadata": {},
   "outputs": [],
   "source": [
    "from qiskit_aer import Aer as Aer \n",
    "from qiskit import QuantumRegister,ClassicalRegister,QuantumCircuit\n",
    "from math import pi\n",
    "import numpy as np\n",
    "from qiskit.visualization import plot_bloch_multivector\n",
    "\n",
    "sim = Aer.get_backend('aer_simulator')"
   ]
  },
  {
   "cell_type": "code",
   "execution_count": 9,
   "id": "6b8d4fb2-5704-46f1-817d-cc9484f49ec7",
   "metadata": {},
   "outputs": [
    {
     "data": {
      "image/png": "[encoded data removed]",
      "text/plain": [
       "<Figure size 890.803x284.278 with 1 Axes>"
      ]
     },
     "execution_count": 9,
     "metadata": {},
     "output_type": "execute_result"
    }
   ],
   "source": [
    "cr = ClassicalRegister(1)\n",
    "qr = QuantumRegister(2)\n",
    "qc = QuantumCircuit(qr,cr)\n",
    "\n",
    "qc.x(1)\n",
    "qc.barrier(label='$ψ_1$')\n",
    "# state1 = sim.run(qc).result().data()['$ψ_1$']\n",
    "\n",
    "qc.h([0,1])\n",
    "qc.barrier(label='$ψ_2$')\n",
    "# state2 = sim.run(qc).result().data()['$ψ_2$']\n",
    "\n",
    "\n",
    "blackbox = QuantumCircuit(2)\n",
    "output = np.random.randint(2)\n",
    "blackbox_gate = blackbox.to_gate()\n",
    "blackbox_gate.name = \"$U$\"\n",
    "\n",
    "qc.append(blackbox_gate,range(2))\n",
    "qc.barrier(label='$ψ_3$')\n",
    "# state3 = sim.run(qc).result().data()['$ψ_3$']\n",
    "\n",
    "qc.h(0)\n",
    "\n",
    "qc.barrier(label='$ψ_4$')\n",
    "qc.measure(0,0)\n",
    "# state4 = sim.run(qc).result().data()['$ψ_4$']\n",
    "\n",
    "qc.draw(\"mpl\")"
   ]
  },
  {
   "cell_type": "markdown",
   "id": "1976a2b7-8418-4d4a-aaaf-74ae7330c671",
   "metadata": {},
   "source": [
    "With a one-bit function $f(x)$, we use a quantum circuit with 2 qubits. We start by preparing the state $$\\psi_1=|01\\rangle.$$ \n",
    "Then, we apply H-gate on all qubits, so the state becomes \n",
    "$$\\begin{align} \n",
    "\\psi_2 &= \\left( \\frac{|0\\rangle + |1\\rangle}{\\sqrt{2}} \\right)\\left(\\frac{|0\\rangle - |1\\rangle}{\\sqrt{2}} \\right)  \\\\\n",
    "&= \\frac{1}{2}\\left( |00\\rangle - |01\\rangle + |10\\rangle - |11\\rangle \\right)\n",
    "\\end{align}$$\n",
    "\n",
    "Afterwards, we apply the unitary operation $\\hat{U}$, which the influence on the states is:\n",
    "$$ \\hat{U} |x\\rangle \\otimes |y\\rangle = |x\\rangle \\otimes |y\\oplus f(x) \\rangle$$\n",
    "Let's break it down to the four possible cases and look at the state after $\\hat{U}$ is applied. \n",
    "\n",
    "\n",
    "||$f(x)$|$\\psi_3$|\n",
    "|:----:|:----|:----:|\n",
    "|constant|$f_1(x)=0$|$\\begin{align} &\\frac{1}{2} \\left( |00\\rangle - |01\\rangle + |10\\rangle - |11\\rangle \\right) = \\left(\\frac{|0\\rangle+|1\\rangle}{\\sqrt{2}}\\right)\\otimes \\left(\\frac{|0\\rangle-|1\\rangle}{\\sqrt{2}}\\right)\\\\ =& |+\\rangle |-\\rangle \\end{align} $|\n",
    "||$f_2(x)=1$||\n",
    "|balanced|$f_3(x)=x$||\n",
    "||$f_4(x)=x\\oplus1$||"
   ]
  },
  {
   "cell_type": "markdown",
   "id": "aea9b560-dcab-4f50-9e9a-65d60339a470",
   "metadata": {},
   "source": []
  },
  {
   "cell_type": "code",
   "execution_count": null,
   "id": "4fe2ac0d-d2e0-410b-9027-fe0767f8ddd5",
   "metadata": {},
   "outputs": [],
   "source": []
  },
  {
   "cell_type": "code",
   "execution_count": null,
   "id": "ee686e1b-9b34-457a-aa08-2794cbbd3ab0",
   "metadata": {},
   "outputs": [],
   "source": []
  },
  {
   "cell_type": "code",
   "execution_count": null,
   "id": "866b4533-75b4-4e4b-9a66-8497f5e8492a",
   "metadata": {},
   "outputs": [],
   "source": []
  },
  {
   "cell_type": "code",
   "execution_count": null,
   "id": "aa376061-7c7d-44dc-9683-f44d19142eaf",
   "metadata": {},
   "outputs": [],
   "source": []
  },
  {
   "cell_type": "markdown",
   "id": "073ffa9f-6f0d-436b-8385-cd738d2e02ee",
   "metadata": {},
   "source": [
    "## The Deutsch-Jozsa Problem \n"
   ]
  }
 ],
 "metadata": {
  "kernelspec": {
   "display_name": "Python 3 (ipykernel)",
   "language": "python",
   "name": "python3"
  },
  "language_info": {
   "codemirror_mode": {
    "name": "ipython",
    "version": 3
   },
   "file_extension": ".py",
   "mimetype": "text/x-python",
   "name": "python",
   "nbconvert_exporter": "python",
   "pygments_lexer": "ipython3",
   "version": "3.12.4"
  }
 },
 "nbformat": 4,
 "nbformat_minor": 5
}
